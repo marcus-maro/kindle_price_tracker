{
 "cells": [
  {
   "cell_type": "code",
   "execution_count": 1,
   "metadata": {},
   "outputs": [],
   "source": [
    "import json\n",
    "from datetime import datetime, timezone\n",
    "\n",
    "from kindle_price_tracker import database, utils"
   ]
  },
  {
   "cell_type": "code",
   "execution_count": 2,
   "metadata": {},
   "outputs": [],
   "source": [
    "timestamp = utils.utc_now_floor()"
   ]
  },
  {
   "cell_type": "code",
   "execution_count": 3,
   "metadata": {},
   "outputs": [],
   "source": [
    "# Create database\n",
    "database.create_database()"
   ]
  },
  {
   "cell_type": "code",
   "execution_count": 4,
   "metadata": {},
   "outputs": [],
   "source": [
    "# Add books\n",
    "database.insert_book(\"B000XUBC2C\", \"The Hitchhiker's Guide to the Galaxy\")\n",
    "database.insert_book(\"B07T5LSF1J\", \"Die With Zero: Getting All You Can from Your Money and Your Life\")\n",
    "database.insert_book(\"B01H97OQY2\", \"The Simple Path to Wealth: Your road map to financial independence and a rich, free life\")"
   ]
  },
  {
   "cell_type": "code",
   "execution_count": 5,
   "metadata": {},
   "outputs": [],
   "source": [
    "# Add price data and update lowest price\n",
    "for book in database.get_books():\n",
    "    asin = book[0]\n",
    "    price = utils.get_kindle_price(asin)\n",
    "\n",
    "    database.insert_price_data(asin, price, timestamp)\n",
    "    database.update_lowest_price(asin, price, timestamp)"
   ]
  },
  {
   "cell_type": "code",
   "execution_count": 6,
   "metadata": {},
   "outputs": [],
   "source": [
    "# Add user\n",
    "number = json.load(open(\"kindle_price_tracker/auth.json\"))[\"my_number\"]\n",
    "database.insert_user(\"Marcus\", number)"
   ]
  },
  {
   "cell_type": "code",
   "execution_count": 7,
   "metadata": {},
   "outputs": [],
   "source": [
    "# Add user books\n",
    "for book in database.get_books():\n",
    "    asin = book[0]\n",
    "    database.insert_user_book(number, asin)"
   ]
  }
 ],
 "metadata": {
  "kernelspec": {
   "display_name": "Python 3",
   "language": "python",
   "name": "python3"
  },
  "language_info": {
   "codemirror_mode": {
    "name": "ipython",
    "version": 3
   },
   "file_extension": ".py",
   "mimetype": "text/x-python",
   "name": "python",
   "nbconvert_exporter": "python",
   "pygments_lexer": "ipython3",
   "version": "3.11.0"
  },
  "orig_nbformat": 4,
  "vscode": {
   "interpreter": {
    "hash": "def22308a09c543e4d46c7e4769b8b542a0e84182630b91d20810611ab2680fa"
   }
  }
 },
 "nbformat": 4,
 "nbformat_minor": 2
}
